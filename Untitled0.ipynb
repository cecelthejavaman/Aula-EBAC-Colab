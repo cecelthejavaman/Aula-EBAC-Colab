{
  "nbformat": 4,
  "nbformat_minor": 0,
  "metadata": {
    "colab": {
      "name": "Untitled0.ipynb",
      "provenance": []
    },
    "kernelspec": {
      "name": "python3",
      "display_name": "Python 3"
    },
    "language_info": {
      "name": "python"
    }
  },
  "cells": [
    {
      "cell_type": "code",
      "metadata": {
        "colab": {
          "base_uri": "https://localhost:8080/"
        },
        "id": "66DJAVASF54u",
        "outputId": "57bd394f-1d1a-4150-9b6c-cae989ff4bf7"
      },
      "source": [
        "print(\"Olá Mundo!!! De Jacareí, SP\")"
      ],
      "execution_count": null,
      "outputs": [
        {
          "output_type": "stream",
          "text": [
            "Olá Mundo!!! De Jacareí, SP\n"
          ],
          "name": "stdout"
        }
      ]
    },
    {
      "cell_type": "code",
      "metadata": {
        "id": "MgmS3CYiKRkq"
      },
      "source": [
        ""
      ],
      "execution_count": 5,
      "outputs": []
    },
    {
      "cell_type": "markdown",
      "metadata": {
        "id": "VgL3karMGes5"
      },
      "source": [
        "PRIMEIRO PROJETO DE CECEL\n",
        "\n"
      ]
    },
    {
      "cell_type": "markdown",
      "metadata": {
        "id": "Eltin9i6G0BS"
      },
      "source": [
        ""
      ]
    },
    {
      "cell_type": "code",
      "metadata": {
        "colab": {
          "base_uri": "https://localhost:8080/"
        },
        "id": "h_j9F1XIKTLE",
        "outputId": "523b160f-a226-4a12-a7a9-30f38cbbad39"
      },
      "source": [
        "#https://pandas.pydata.org/docs/reference/api/pandas.DataFrame.html\n",
        "\n",
        "import pandas as pd\n",
        "\n",
        "df = pd.read_csv(\"KAG_conversion_data.csv\")\n",
        "\n",
        "#type(df)\n",
        "\n",
        "#df.head(n=5)\n",
        "\n",
        "#df.tail(n=5)\n",
        "\n",
        "#df.columns\n",
        "\n",
        "#df.index\n",
        "\n",
        "#df.shape\n",
        "#linhas,colunas = df.shape\n",
        "#print(f \"O numero de linhas = {linhas}; o numero de colunas = {colunas})\n",
        "\n",
        "df.info()\n",
        "\n"
      ],
      "execution_count": 23,
      "outputs": [
        {
          "output_type": "stream",
          "text": [
            "<class 'pandas.core.frame.DataFrame'>\n",
            "RangeIndex: 1143 entries, 0 to 1142\n",
            "Data columns (total 11 columns):\n",
            " #   Column               Non-Null Count  Dtype  \n",
            "---  ------               --------------  -----  \n",
            " 0   ad_id                1143 non-null   int64  \n",
            " 1   xyz_campaign_id      1143 non-null   int64  \n",
            " 2   fb_campaign_id       1143 non-null   int64  \n",
            " 3   age                  1143 non-null   object \n",
            " 4   gender               1143 non-null   object \n",
            " 5   interest             1143 non-null   int64  \n",
            " 6   Impressions          1143 non-null   int64  \n",
            " 7   Clicks               1143 non-null   int64  \n",
            " 8   Spent                1143 non-null   float64\n",
            " 9   Total_Conversion     1143 non-null   int64  \n",
            " 10  Approved_Conversion  1143 non-null   int64  \n",
            "dtypes: float64(1), int64(8), object(2)\n",
            "memory usage: 98.4+ KB\n"
          ],
          "name": "stdout"
        }
      ]
    }
  ]
}